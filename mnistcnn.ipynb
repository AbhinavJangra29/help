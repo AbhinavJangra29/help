{
  "nbformat": 4,
  "nbformat_minor": 0,
  "metadata": {
    "colab": {
      "provenance": [],
      "gpuType": "T4"
    },
    "kernelspec": {
      "name": "python3",
      "display_name": "Python 3"
    },
    "language_info": {
      "name": "python"
    },
    "accelerator": "GPU"
  },
  "cells": [
    {
      "cell_type": "code",
      "execution_count": 3,
      "metadata": {
        "id": "JmD_Rq0LWk_x"
      },
      "outputs": [],
      "source": [
        "import torch\n",
        "import torch.nn as nn\n",
        "import torch.optim as optim\n",
        "import torchvision\n",
        "import torchvision.transforms as transforms\n",
        "from torch.utils.data import DataLoader\n",
        "import torch.nn.functional as F"
      ]
    },
    {
      "cell_type": "code",
      "source": [
        "class Mymodel(nn.Module):\n",
        "  def __init__(self):\n",
        "    super(Mymodel,self).__init__()\n",
        "    self.features=nn.Sequential(\n",
        "        nn.Conv2d(1,32,3),\n",
        "        nn.ReLU(),\n",
        "        nn.MaxPool2d(2),\n",
        "        nn.Conv2d(32,64,3),\n",
        "        nn.ReLU(),\n",
        "        nn.MaxPool2d(2)\n",
        "    )\n",
        "    self.fcl=nn.Sequential(\n",
        "        nn.Linear(64 * 5 * 5, 128),\n",
        "        nn.ReLU(),\n",
        "        nn.Linear(128, 10)\n",
        "    )\n",
        "  def forward(self,x):\n",
        "    x = self.features(x)\n",
        "    x = x.view(x.size(0), -1)\n",
        "    x = self.fcl(x)\n",
        "    return x"
      ],
      "metadata": {
        "id": "lyvXyw4aYLXc"
      },
      "execution_count": 4,
      "outputs": []
    },
    {
      "cell_type": "code",
      "source": [
        "transform=transforms.Compose([transforms.ToTensor(),transforms.Normalize((0.5,), (0.5,))])"
      ],
      "metadata": {
        "id": "1L9gK_YhdT-E"
      },
      "execution_count": 5,
      "outputs": []
    },
    {
      "cell_type": "code",
      "source": [
        "train_dataset=torchvision.datasets.MNIST(root='./data', train=True, transform=transform, download=True)\n",
        "test_dataset=torchvision.datasets.MNIST(root='./data', train=False, transform=transform, download=True)"
      ],
      "metadata": {
        "colab": {
          "base_uri": "https://localhost:8080/"
        },
        "id": "m7xrYOG-eS3V",
        "outputId": "11645b24-e449-49e2-9342-048b4c441fc5"
      },
      "execution_count": 6,
      "outputs": [
        {
          "output_type": "stream",
          "name": "stdout",
          "text": [
            "Downloading http://yann.lecun.com/exdb/mnist/train-images-idx3-ubyte.gz\n",
            "Downloading http://yann.lecun.com/exdb/mnist/train-images-idx3-ubyte.gz to ./data/MNIST/raw/train-images-idx3-ubyte.gz\n"
          ]
        },
        {
          "output_type": "stream",
          "name": "stderr",
          "text": [
            "100%|██████████| 9912422/9912422 [00:00<00:00, 167285816.43it/s]"
          ]
        },
        {
          "output_type": "stream",
          "name": "stdout",
          "text": [
            "Extracting ./data/MNIST/raw/train-images-idx3-ubyte.gz to ./data/MNIST/raw\n"
          ]
        },
        {
          "output_type": "stream",
          "name": "stderr",
          "text": [
            "\n"
          ]
        },
        {
          "output_type": "stream",
          "name": "stdout",
          "text": [
            "\n",
            "Downloading http://yann.lecun.com/exdb/mnist/train-labels-idx1-ubyte.gz\n",
            "Downloading http://yann.lecun.com/exdb/mnist/train-labels-idx1-ubyte.gz to ./data/MNIST/raw/train-labels-idx1-ubyte.gz\n"
          ]
        },
        {
          "output_type": "stream",
          "name": "stderr",
          "text": [
            "100%|██████████| 28881/28881 [00:00<00:00, 105703048.71it/s]\n"
          ]
        },
        {
          "output_type": "stream",
          "name": "stdout",
          "text": [
            "Extracting ./data/MNIST/raw/train-labels-idx1-ubyte.gz to ./data/MNIST/raw\n",
            "\n",
            "Downloading http://yann.lecun.com/exdb/mnist/t10k-images-idx3-ubyte.gz\n",
            "Downloading http://yann.lecun.com/exdb/mnist/t10k-images-idx3-ubyte.gz to ./data/MNIST/raw/t10k-images-idx3-ubyte.gz\n"
          ]
        },
        {
          "output_type": "stream",
          "name": "stderr",
          "text": [
            "100%|██████████| 1648877/1648877 [00:00<00:00, 162585311.53it/s]\n"
          ]
        },
        {
          "output_type": "stream",
          "name": "stdout",
          "text": [
            "Extracting ./data/MNIST/raw/t10k-images-idx3-ubyte.gz to ./data/MNIST/raw\n",
            "\n",
            "Downloading http://yann.lecun.com/exdb/mnist/t10k-labels-idx1-ubyte.gz\n",
            "Downloading http://yann.lecun.com/exdb/mnist/t10k-labels-idx1-ubyte.gz to ./data/MNIST/raw/t10k-labels-idx1-ubyte.gz\n"
          ]
        },
        {
          "output_type": "stream",
          "name": "stderr",
          "text": [
            "100%|██████████| 4542/4542 [00:00<00:00, 21846936.66it/s]\n"
          ]
        },
        {
          "output_type": "stream",
          "name": "stdout",
          "text": [
            "Extracting ./data/MNIST/raw/t10k-labels-idx1-ubyte.gz to ./data/MNIST/raw\n",
            "\n"
          ]
        }
      ]
    },
    {
      "cell_type": "code",
      "source": [
        "train_dataset.data.shape"
      ],
      "metadata": {
        "colab": {
          "base_uri": "https://localhost:8080/"
        },
        "id": "pWCneEumDnk4",
        "outputId": "8f1161dd-7375-46c0-b93b-402baa9eea78"
      },
      "execution_count": 8,
      "outputs": [
        {
          "output_type": "execute_result",
          "data": {
            "text/plain": [
              "torch.Size([60000, 28, 28])"
            ]
          },
          "metadata": {},
          "execution_count": 8
        }
      ]
    },
    {
      "cell_type": "code",
      "source": [
        "train_loader=DataLoader(train_dataset, batch_size=64, shuffle=True)\n",
        "test_loader=DataLoader(test_dataset, batch_size=64, shuffle=False)"
      ],
      "metadata": {
        "id": "nK53HMyOe3-4"
      },
      "execution_count": 9,
      "outputs": []
    },
    {
      "cell_type": "code",
      "source": [
        "#initialization\n",
        "model=Mymodel()\n",
        "criterion=nn.CrossEntropyLoss()\n",
        "optimizer=optim.SGD(model.parameters(), lr=0.001, momentum=0.9)"
      ],
      "metadata": {
        "id": "GdKwyX_qfQEf"
      },
      "execution_count": 10,
      "outputs": []
    },
    {
      "cell_type": "code",
      "source": [
        "def train(model, optimizer, criterion, train_loader, epoch):\n",
        "    model.train()\n",
        "    running_loss = 0.0\n",
        "    for batch_idx, (inputs, targets) in enumerate(train_loader):\n",
        "        optimizer.zero_grad()\n",
        "        outputs = model(inputs)\n",
        "        loss = criterion(outputs, targets)\n",
        "        loss.backward()\n",
        "        optimizer.step()\n",
        "        running_loss += loss.item()\n",
        "    print(f'Train Epoch: {epoch}, Loss: {running_loss / len(train_loader)}')\n",
        "\n",
        "def test(model, test_loader):\n",
        "    model.eval()\n",
        "    correct = 0\n",
        "    total = 0\n",
        "    with torch.no_grad():\n",
        "        for inputs, targets in test_loader:\n",
        "            outputs = model(inputs)\n",
        "            _, predicted = torch.max(outputs, 1)\n",
        "            total += targets.size(0)\n",
        "            correct += (predicted == targets).sum().item()\n",
        "        accuracy = 100 * correct / total\n",
        "        print(f'Test Accuracy: {accuracy}%')\n"
      ],
      "metadata": {
        "id": "V93nKDyTfmly"
      },
      "execution_count": 13,
      "outputs": []
    },
    {
      "cell_type": "code",
      "source": [
        "for epoch in range(10):\n",
        "    train(model, optimizer, criterion, train_loader, epoch)\n",
        "    test(model, test_loader)\n"
      ],
      "metadata": {
        "colab": {
          "base_uri": "https://localhost:8080/"
        },
        "id": "pcy_D0uLjR08",
        "outputId": "86fc3521-e1f7-4f04-fe60-4fb564ba5343"
      },
      "execution_count": 14,
      "outputs": [
        {
          "output_type": "stream",
          "name": "stdout",
          "text": [
            "Train Epoch: 0, Loss: 0.2997346512361694\n",
            "Test Accuracy: 94.77%\n",
            "Train Epoch: 1, Loss: 0.1611298845012559\n",
            "Test Accuracy: 96.7%\n",
            "Train Epoch: 2, Loss: 0.11526624856790754\n",
            "Test Accuracy: 97.44%\n",
            "Train Epoch: 3, Loss: 0.09176152368246922\n",
            "Test Accuracy: 97.74%\n",
            "Train Epoch: 4, Loss: 0.07740650611963354\n",
            "Test Accuracy: 98.04%\n",
            "Train Epoch: 5, Loss: 0.06796218168689434\n",
            "Test Accuracy: 98.15%\n",
            "Train Epoch: 6, Loss: 0.061439022861931446\n",
            "Test Accuracy: 98.09%\n",
            "Train Epoch: 7, Loss: 0.055676770311639284\n",
            "Test Accuracy: 98.31%\n",
            "Train Epoch: 8, Loss: 0.05102446494000489\n",
            "Test Accuracy: 98.4%\n",
            "Train Epoch: 9, Loss: 0.047375262186957846\n",
            "Test Accuracy: 98.58%\n"
          ]
        }
      ]
    },
    {
      "cell_type": "markdown",
      "source": [
        "#prediction on custom dataset"
      ],
      "metadata": {
        "id": "4XXgbY9AEcDM"
      }
    },
    {
      "cell_type": "markdown",
      "source": [
        "first save the trained model"
      ],
      "metadata": {
        "id": "msOuWtSwP4QC"
      }
    },
    {
      "cell_type": "code",
      "source": [
        "#saving our model\n",
        "from pathlib import Path\n",
        "#1.create model directory\n",
        "MODEL_PATH=Path(\"models\")#save models to models file\n",
        "MODEL_PATH.mkdir(parents=True,exist_ok=True)\n",
        "\n",
        "#2.create model save path\n",
        "MODEL_NAME=\"model1\"\n",
        "MODEL_SAVE_PATH=MODEL_PATH/MODEL_NAME\n",
        "\n",
        "MODEL_SAVE_PATH\n",
        "\n",
        "#save the model state dict in the models folder we made using upper snippet\n",
        "print(f\"saving model to:{MODEL_SAVE_PATH}\")\n",
        "torch.save(obj=model.state_dict(),f=MODEL_SAVE_PATH)"
      ],
      "metadata": {
        "colab": {
          "base_uri": "https://localhost:8080/"
        },
        "id": "f4IlyF8tZ6YF",
        "outputId": "a60a81ae-edd0-47d3-f7df-adfa317522c4"
      },
      "execution_count": 58,
      "outputs": [
        {
          "output_type": "stream",
          "name": "stdout",
          "text": [
            "saving model to:models/model1\n"
          ]
        }
      ]
    },
    {
      "cell_type": "code",
      "source": [
        "loaded_model_1=Mymodel()\n",
        "#load the saved state space(this will update the new instance with updated parameter)\n",
        "loaded_model_1.load_state_dict(torch.load(f=MODEL_SAVE_PATH))"
      ],
      "metadata": {
        "colab": {
          "base_uri": "https://localhost:8080/"
        },
        "id": "trZihiv3aApE",
        "outputId": "2f31382d-ba36-4d54-d781-e5e84988d661"
      },
      "execution_count": 59,
      "outputs": [
        {
          "output_type": "execute_result",
          "data": {
            "text/plain": [
              "<All keys matched successfully>"
            ]
          },
          "metadata": {},
          "execution_count": 59
        }
      ]
    },
    {
      "cell_type": "code",
      "source": [
        "from PIL import Image\n",
        "import matplotlib.pyplot as plt\n",
        "\n",
        "# Load your model\n",
        "model2 = loaded_model_1\n",
        "\n",
        "# Define a function to preprocess an image\n",
        "def preprocess_image(image_path):\n",
        "    image = Image.open(image_path).convert('L')  # Convert to grayscale\n",
        "    transform = transforms.Compose([\n",
        "        transforms.Resize((28, 28)),  # Resize to 28x28\n",
        "        transforms.ToTensor(),  # Convert to a PyTorch tensor\n",
        "        transforms.Normalize((0.5,), (0.5,))  # Normalize\n",
        "    ])\n",
        "    image = transform(image)\n",
        "    image = image.view(1, 1, 28, 28)  # Add batch and channel dimensions\n",
        "    return image\n",
        "\n",
        "# Define a function to make predictions\n",
        "def predict_digit(image_path):\n",
        "    image = preprocess_image(image_path)\n",
        "    with torch.no_grad():\n",
        "        model.eval()  # Set the model in evaluation mode\n",
        "        output = model2(image)\n",
        "        _, predicted = torch.max(output, 1)\n",
        "    return predicted.item()\n",
        "\n",
        "# Provide the paths to the images you want to predict\n",
        "image_paths = ['/content/5.jpg', '/content/8.jpg', '/content/6.jpg', '/content/1.png']\n",
        "predicted_digits = []\n",
        "\n",
        "# Process and predict each image\n",
        "for image_path in image_paths:\n",
        "    predicted_digit = predict_digit(image_path)\n",
        "    predicted_digits.append(predicted_digit)\n",
        "\n",
        "# Plot the images and their predicted digits\n",
        "plt.figure(figsize=(12, 4))\n",
        "for i, image_path in enumerate(image_paths):\n",
        "    plt.subplot(1, len(image_paths), i + 1)\n",
        "    image = preprocess_image(image_path).squeeze(0)  # Remove batch dimension\n",
        "    image = image / 2.0 + 0.5  # Unnormalize for visualization\n",
        "    image = transforms.ToPILImage()(image)\n",
        "    plt.imshow(image, cmap='gray')\n",
        "    plt.title(f'Predicted Digit: {predicted_digits[i]}')\n",
        "    plt.axis('off')\n",
        "\n",
        "plt.show()\n"
      ],
      "metadata": {
        "colab": {
          "base_uri": "https://localhost:8080/",
          "height": 261
        },
        "id": "8-JFMg3XeV47",
        "outputId": "bffd8523-c95e-418f-c072-0ced172222c0"
      },
      "execution_count": 62,
      "outputs": [
        {
          "output_type": "display_data",
          "data": {
            "text/plain": [
              "<Figure size 1200x400 with 4 Axes>"
            ],
            "image/png": "[encoded data removed]"
          },
          "metadata": {}
        }
      ]
    },
    {
      "cell_type": "code",
      "source": [],
      "metadata": {
        "id": "oRBB9Zroeu9j"
      },
      "execution_count": null,
      "outputs": []
    }
  ]
}